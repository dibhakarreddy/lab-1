{
  "nbformat": 4,
  "nbformat_minor": 0,
  "metadata": {
    "colab": {
      "provenance": [],
      "authorship_tag": "ABX9TyMONCxpPYaLLuED/bV1cEH9",
      "include_colab_link": true
    },
    "kernelspec": {
      "name": "python3",
      "display_name": "Python 3"
    },
    "language_info": {
      "name": "python"
    }
  },
  "cells": [
    {
      "cell_type": "markdown",
      "metadata": {
        "id": "view-in-github",
        "colab_type": "text"
      },
      "source": [
        "<a href=\"https://colab.research.google.com/github/dibhakarreddy/lab-1/blob/main/Untitled0.ipynb\" target=\"_parent\"><img src=\"https://colab.research.google.com/assets/colab-badge.svg\" alt=\"Open In Colab\"/></a>"
      ]
    },
    {
      "cell_type": "code",
      "execution_count": 1,
      "metadata": {
        "colab": {
          "base_uri": "https://localhost:8080/"
        },
        "id": "MmYK1RAJK86p",
        "outputId": "74399441-cb9b-44e1-8b21-1b6ad352d5e3"
      },
      "outputs": [
        {
          "output_type": "stream",
          "name": "stdout",
          "text": [
            "Weather Index for T=30°C, H=70%, W=15 km/h: 422.50\n",
            "Predicted Weather: Sunny\n",
            "\n",
            "Weather Index for T=25°C, H=80%, W=10 km/h: 282.50\n",
            "Predicted Weather: Cloudy\n",
            "\n",
            "Weather Index for T=20°C, H=60%, W=20 km/h: 175.00\n",
            "Predicted Weather: Rainy\n",
            "\n"
          ]
        }
      ],
      "source": [
        "data = [\n",
        "    (30, 70, 15),\n",
        "    (25, 80, 10),\n",
        "    (20, 60, 20)\n",
        "]\n",
        "\n",
        "# Loop through each data point\n",
        "for temperature, humidity, wind_speed in data:\n",
        "    weather_index = 0.5 * (temperature**2) - 0.2 * humidity + 0.1 * wind_speed - 15\n",
        "\n",
        "    if weather_index > 300:\n",
        "        prediction = \"Sunny\"\n",
        "    elif 200 <= weather_index <= 300:\n",
        "        prediction = \"Cloudy\"\n",
        "    elif 100 <= weather_index < 200:\n",
        "        prediction = \"Rainy\"\n",
        "    else:\n",
        "        prediction = \"Stormy\"\n",
        "\n",
        "    print(f\"Weather Index for T={temperature}°C, H={humidity}%, W={wind_speed} km/h: {weather_index:.2f}\")\n",
        "    print(f\"Predicted Weather: {prediction}\\n\")"
      ]
    }
  ]
}